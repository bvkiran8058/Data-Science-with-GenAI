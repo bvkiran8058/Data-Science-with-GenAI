{
 "cells": [
  {
   "cell_type": "code",
   "execution_count": null,
   "id": "26a4fe1f",
   "metadata": {},
   "outputs": [],
   "source": [
    "print()"
   ]
  },
  {
   "cell_type": "code",
   "execution_count": null,
   "id": "0b7b645f",
   "metadata": {},
   "outputs": [],
   "source": [
    "import re"
   ]
  },
  {
   "cell_type": "code",
   "execution_count": null,
   "id": "f5531615",
   "metadata": {},
   "outputs": [
    {
     "data": {
      "text/plain": [
       "['A',\n",
       " 'ASCII',\n",
       " 'DEBUG',\n",
       " 'DOTALL',\n",
       " 'I',\n",
       " 'IGNORECASE',\n",
       " 'L',\n",
       " 'LOCALE',\n",
       " 'M',\n",
       " 'MULTILINE',\n",
       " 'Match',\n",
       " 'NOFLAG',\n",
       " 'Pattern',\n",
       " 'PatternError',\n",
       " 'RegexFlag',\n",
       " 'S',\n",
       " 'Scanner',\n",
       " 'U',\n",
       " 'UNICODE',\n",
       " 'VERBOSE',\n",
       " 'X',\n",
       " '_MAXCACHE',\n",
       " '_MAXCACHE2',\n",
       " '_ZeroSentinel',\n",
       " '__all__',\n",
       " '__builtins__',\n",
       " '__cached__',\n",
       " '__doc__',\n",
       " '__file__',\n",
       " '__loader__',\n",
       " '__name__',\n",
       " '__package__',\n",
       " '__path__',\n",
       " '__spec__',\n",
       " '__version__',\n",
       " '_cache',\n",
       " '_cache2',\n",
       " '_casefix',\n",
       " '_compile',\n",
       " '_compile_template',\n",
       " '_compiler',\n",
       " '_constants',\n",
       " '_parser',\n",
       " '_pickle',\n",
       " '_special_chars_map',\n",
       " '_sre',\n",
       " '_zero_sentinel',\n",
       " 'compile',\n",
       " 'copyreg',\n",
       " 'enum',\n",
       " 'error',\n",
       " 'escape',\n",
       " 'findall',\n",
       " 'finditer',\n",
       " 'fullmatch',\n",
       " 'functools',\n",
       " 'match',\n",
       " 'purge',\n",
       " 'search',\n",
       " 'split',\n",
       " 'sub',\n",
       " 'subn']"
      ]
     },
     "execution_count": 2,
     "metadata": {},
     "output_type": "execute_result"
    }
   ],
   "source": [
    "dir(re)"
   ]
  },
  {
   "cell_type": "code",
   "execution_count": 12,
   "id": "02077ed5",
   "metadata": {},
   "outputs": [
    {
     "name": "stdout",
     "output_type": "stream",
     "text": [
      "13 7\n"
     ]
    }
   ],
   "source": [
    "txt = \"I love Python\"\n",
    "match = re.search(\"Python\", txt)\n",
    "print(match.end(), match.start()) "
   ]
  },
  {
   "cell_type": "code",
   "execution_count": 20,
   "id": "aec3527b",
   "metadata": {},
   "outputs": [
    {
     "name": "stdout",
     "output_type": "stream",
     "text": [
      "0 None\n"
     ]
    }
   ],
   "source": [
    "mat1 = re.match(\"I\", txt) # Matches only beginning.\n",
    "mat = re.match(\"P\", txt)\n",
    "print(mat1.start(), mat)"
   ]
  },
  {
   "cell_type": "code",
   "execution_count": 22,
   "id": "e7cb9b4f",
   "metadata": {},
   "outputs": [
    {
     "name": "stderr",
     "output_type": "stream",
     "text": [
      "<>:1: SyntaxWarning: invalid escape sequence '\\d'\n",
      "<>:1: SyntaxWarning: invalid escape sequence '\\d'\n",
      "C:\\Users\\bvkir\\AppData\\Local\\Temp\\ipykernel_20212\\3272340143.py:1: SyntaxWarning: invalid escape sequence '\\d'\n",
      "  matches = re.findall(\"\\d\", \"User123 has 4 cars\") #Returns all occurrences.\n"
     ]
    },
    {
     "data": {
      "text/plain": [
       "['1', '2', '3', '4']"
      ]
     },
     "execution_count": 22,
     "metadata": {},
     "output_type": "execute_result"
    }
   ],
   "source": [
    "matches = re.findall(\"\\d\", \"User123 has 4 cars\") #Returns all occurrences.\n",
    "matches"
   ]
  },
  {
   "cell_type": "code",
   "execution_count": null,
   "id": "cafea6c9",
   "metadata": {},
   "outputs": [
    {
     "name": "stderr",
     "output_type": "stream",
     "text": [
      "<>:1: SyntaxWarning: invalid escape sequence '\\s'\n",
      "<>:1: SyntaxWarning: invalid escape sequence '\\s'\n",
      "C:\\Users\\bvkir\\AppData\\Local\\Temp\\ipykernel_20212\\1385625490.py:1: SyntaxWarning: invalid escape sequence '\\s'\n",
      "  re.split(\"\\s\", \"Hello World\")\n"
     ]
    },
    {
     "data": {
      "text/plain": [
       "['Hello', 'World']"
      ]
     },
     "execution_count": 23,
     "metadata": {},
     "output_type": "execute_result"
    }
   ],
   "source": [
    "re.split(\"\\s\", \"Hello World\") # Splits based on pattern."
   ]
  },
  {
   "cell_type": "code",
   "execution_count": null,
   "id": "d75f7e2b",
   "metadata": {},
   "outputs": [
    {
     "name": "stderr",
     "output_type": "stream",
     "text": [
      "<>:1: SyntaxWarning: invalid escape sequence '\\d'\n",
      "<>:1: SyntaxWarning: invalid escape sequence '\\d'\n",
      "C:\\Users\\bvkir\\AppData\\Local\\Temp\\ipykernel_20212\\742542235.py:1: SyntaxWarning: invalid escape sequence '\\d'\n",
      "  re.sub(\"\\d\", \"#\", \"Call me at 98765\")\n"
     ]
    },
    {
     "data": {
      "text/plain": [
       "'Call me at #####'"
      ]
     },
     "execution_count": 24,
     "metadata": {},
     "output_type": "execute_result"
    }
   ],
   "source": [
    "re.sub(\"\\d\", \"#\", \"Call me at 98765\") # replces text"
   ]
  },
  {
   "cell_type": "code",
   "execution_count": 28,
   "id": "83a61740",
   "metadata": {},
   "outputs": [
    {
     "data": {
      "text/plain": [
       "['cat']"
      ]
     },
     "execution_count": 28,
     "metadata": {},
     "output_type": "execute_result"
    }
   ],
   "source": [
    "re.findall(r\"\\bcat\\b\", \"cat scatter cater ccat\")"
   ]
  },
  {
   "cell_type": "code",
   "execution_count": 59,
   "id": "cd5808be",
   "metadata": {},
   "outputs": [],
   "source": [
    "text = \"\"\"Hi, my name is Kiran. I work at TCS Bangalore.\n",
    "My email is  kiran.goud123@example.com  and alternate email is:  bv-kiran8058@gmail.com\n",
    "My friend's email is: test_user+demo@outlook.co.in\n",
    "\n",
    "My phone numbers:\n",
    "Primary: +91-9876543210\n",
    "Office: 080 22334455\n",
    "Fake: 123456\n",
    "Room: G8\n",
    "\n",
    "PAN: ABCDE1234F\n",
    "Aadhaar: 1234 5678 9123\n",
    "ZIP: 560001, 500027, 500081\n",
    "\n",
    "DOB: 12-08-1999\n",
    "Appointment: 2024/10/31\n",
    "Another date: 31 Oct 2024\n",
    "\n",
    "Website URLs:\n",
    "https://www.google.com/search?q=regex url of regex\n",
    "http://github.com/bvkiran8058 url of git\n",
    "www.example.org/about-us\n",
    "\n",
    "Prices: ₹499, Rs. 999, 450 INR, 25$, 799/- , MRP 1200\n",
    "\n",
    "Order IDs:\n",
    "ORD-4521\n",
    "INV_9912\n",
    "TXN-88-0099\n",
    "\n",
    "Hex Colors: #FF5733, #00ff00, #123abc, #abcd\n",
    "\n",
    "Laptop Models:\n",
    "Dell-XPS-9380 / HP-Envy-13 / MacBook-Pro14\n",
    "\n",
    "Passwords:\n",
    "P@ssw0rd\n",
    "admin123\n",
    "Root@2023\n",
    "hello\n",
    "\"\"\""
   ]
  },
  {
   "cell_type": "markdown",
   "id": "dbe3bcaa",
   "metadata": {},
   "source": [
    "### 1️⃣ Find all numbers in the text"
   ]
  },
  {
   "cell_type": "code",
   "execution_count": 33,
   "id": "2004c235",
   "metadata": {},
   "outputs": [
    {
     "name": "stdout",
     "output_type": "stream",
     "text": [
      "['1', '2', '3', '8', '0', '5', '8', '9', '1', '9', '8', '7', '6', '5', '4', '3', '2', '1', '0', '0', '8', '0', '2', '2', '3', '3', '4', '4', '5', '5', '1', '2', '3', '4', '5', '6', '1', '2', '3', '4', '1', '2', '3', '4', '5', '6', '7', '8', '9', '1', '2', '3', '5', '6', '0', '0', '0', '1', '5', '0', '0', '0', '2', '7', '5', '0', '0', '0', '8', '1', '1', '2', '0', '8', '1', '9', '9', '9', '2', '0', '2', '4', '1', '0', '3', '1', '3', '1', '2', '0', '2', '4', '8', '0', '5', '8', '4', '9', '9', '9', '9', '9', '4', '5', '0', '2', '5', '7', '9', '9', '1', '2', '0', '0', '4', '5', '2', '1', '9', '9', '1', '2', '8', '8', '0', '0', '9', '9', '5', '7', '3', '3', '0', '0', '0', '0', '1', '2', '3', '9', '3', '8', '0', '1', '3', '1', '4', '0', '1', '2', '3', '2', '0', '2', '3']\n",
      "['1', '2', '3', '8', '0', '5', '8', '9', '1', '9', '8', '7', '6', '5', '4', '3', '2', '1', '0', '0', '8', '0', '2', '2', '3', '3', '4', '4', '5', '5', '1', '2', '3', '4', '5', '6', '1', '2', '3', '4', '1', '2', '3', '4', '5', '6', '7', '8', '9', '1', '2', '3', '5', '6', '0', '0', '0', '1', '5', '0', '0', '0', '2', '7', '5', '0', '0', '0', '8', '1', '1', '2', '0', '8', '1', '9', '9', '9', '2', '0', '2', '4', '1', '0', '3', '1', '3', '1', '2', '0', '2', '4', '8', '0', '5', '8', '4', '9', '9', '9', '9', '9', '4', '5', '0', '2', '5', '7', '9', '9', '1', '2', '0', '0', '4', '5', '2', '1', '9', '9', '1', '2', '8', '8', '0', '0', '9', '9', '5', '7', '3', '3', '0', '0', '0', '0', '1', '2', '3', '9', '3', '8', '0', '1', '3', '1', '4', '0', '1', '2', '3', '2', '0', '2', '3']\n"
     ]
    }
   ],
   "source": [
    "all_num_in_text = re.findall(r\"\\d\", text)\n",
    "all_num_in_text1 = re.findall(r\"[0-9]\", text)\n",
    "print(all_num_in_text)\n",
    "print(all_num_in_text1)"
   ]
  },
  {
   "cell_type": "markdown",
   "id": "e43f1638",
   "metadata": {},
   "source": [
    "### 2️⃣ Extract all 10-digit Indian phone numbers"
   ]
  },
  {
   "cell_type": "code",
   "execution_count": 34,
   "id": "9aa4a6f2",
   "metadata": {},
   "outputs": [
    {
     "name": "stdout",
     "output_type": "stream",
     "text": [
      "['+91-9876543210', '080 22334455']\n",
      "['+91-9876543210', '080 22334455']\n"
     ]
    }
   ],
   "source": [
    "all_10_dig_ind_nums = re.findall(r\"[+]91-[0-9]{10}|[0-9]{3} [0-9]{8}\", text)\n",
    "all_10_dig_ind_nums1 = re.findall(r\"[+]91-[\\d]{10}|[\\d]{3} [\\d]{8}\", text)\n",
    "print(all_10_dig_ind_nums)\n",
    "print(all_10_dig_ind_nums1)"
   ]
  },
  {
   "cell_type": "markdown",
   "id": "aa8ed4a2",
   "metadata": {},
   "source": [
    "### 3️⃣ Extract all words starting with a capital letter"
   ]
  },
  {
   "cell_type": "code",
   "execution_count": 41,
   "id": "03ccf908",
   "metadata": {},
   "outputs": [
    {
     "name": "stdout",
     "output_type": "stream",
     "text": [
      "['Hi', 'Kiran', 'I', 'TCS', 'Bangalore', 'My', 'My', 'My', 'Primary', 'Office', 'Fake', 'PAN', 'ABCDE', 'F', 'Aadhaar', 'ZIP', 'DOB', 'Appointment', 'Another', 'Oct', 'Website', 'URLs', 'Prices', 'Rs', 'INR', 'MRP', 'Order', 'IDs', 'ORD', 'INV', 'TXN', 'Hex', 'Colors', 'FF', 'Laptop', 'Models', 'Dell', 'XPS', 'HP', 'Envy', 'MacBook', 'Pro', 'Passwords', 'P', 'Root']\n",
      "['Hi', 'Kiran', 'TCS', 'Bangalore', 'My', 'My', 'My', 'Primary', 'Office', 'Fake', 'PAN', 'ABCDE', 'Aadhaar', 'ZIP', 'DOB', 'Appointment', 'Another', 'Oct', 'Website', 'URLs', 'Prices', 'Rs', 'INR', 'MRP', 'Order', 'IDs', 'ORD', 'INV', 'TXN', 'Hex', 'Colors', 'FF', 'Laptop', 'Models', 'Dell', 'XPS', 'HP', 'Envy', 'MacBook', 'Pro', 'Passwords', 'Root']\n"
     ]
    }
   ],
   "source": [
    "all_words_starts_with_caps = re.findall(r\"[A-Z][A-Za-z]*\", text)\n",
    "all_words_starts_with_caps1 = re.findall(r\"[A-Z][A-Za-z]+\", text) # correct one\n",
    "print(all_words_starts_with_caps)\n",
    "print(all_words_starts_with_caps1)"
   ]
  },
  {
   "cell_type": "markdown",
   "id": "f20c7c0b",
   "metadata": {},
   "source": [
    "### 4️⃣ Extract all lowercase words only"
   ]
  },
  {
   "cell_type": "code",
   "execution_count": 40,
   "id": "3466c535",
   "metadata": {},
   "outputs": [
    {
     "name": "stdout",
     "output_type": "stream",
     "text": [
      "['my', 'name', 'is', 'work', 'at', 'email', 'is', 'kiran', 'example', 'com', 'and', 'alternate', 'email', 'is', 'bv', 'gmail', 'com', 'friend', 's', 'email', 'is', 'demo', 'outlook', 'co', 'in', 'phone', 'numbers', 'date', 'https', 'www', 'google', 'com', 'search', 'q', 'regex', 'http', 'github', 'com', 'www', 'example', 'org', 'about', 'us', 'abcd', 'hello']\n"
     ]
    }
   ],
   "source": [
    "all_lower_words = re.findall(r\"\\b[a-z]+\\b\", text)\n",
    "print(all_lower_words)"
   ]
  },
  {
   "cell_type": "markdown",
   "id": "9ef5cc43",
   "metadata": {},
   "source": [
    "### 5️⃣ Extract all emails\n"
   ]
  },
  {
   "cell_type": "code",
   "execution_count": 42,
   "id": "db249b96",
   "metadata": {},
   "outputs": [
    {
     "name": "stdout",
     "output_type": "stream",
     "text": [
      "['kiran.goud123@example.com', 'bv-kiran8058@gmail.com', 'test_user+demo@outlook.co.in']\n"
     ]
    }
   ],
   "source": [
    "emails = re.findall(r\"[a-zA-z0-9\\.\\_\\-\\+]+[\\@][a-z]+\\.[a-z\\.]{2,}\", text)\n",
    "print(emails)"
   ]
  },
  {
   "cell_type": "markdown",
   "id": "0b611e7a",
   "metadata": {},
   "source": [
    "6️⃣ Get only Gmail emails"
   ]
  },
  {
   "cell_type": "code",
   "execution_count": 43,
   "id": "1a8e2a89",
   "metadata": {},
   "outputs": [
    {
     "name": "stdout",
     "output_type": "stream",
     "text": [
      "['bv-kiran8058@gmail.com']\n"
     ]
    }
   ],
   "source": [
    "gmails = re.findall(r\"[a-zA-z0-9\\.\\_\\-\\+]+[\\@][gmail]+\\.[a-z\\.]{2,}\", text)\n",
    "print(gmails)"
   ]
  },
  {
   "cell_type": "markdown",
   "id": "9441936f",
   "metadata": {},
   "source": [
    "### 7️⃣ Extract domain names from emails"
   ]
  },
  {
   "cell_type": "code",
   "execution_count": 52,
   "id": "0e837e3a",
   "metadata": {},
   "outputs": [
    {
     "name": "stdout",
     "output_type": "stream",
     "text": [
      "['example.com', 'gmail.com', 'outlook.co.in']\n"
     ]
    }
   ],
   "source": [
    "domain_matches = re.findall(r\"([a-zA-z0-9\\.\\_\\-\\+]+[\\@])([a-z]+\\.[a-z\\.]{2,})\", text)\n",
    "domain_names = [match[1] for match in domain_matches]\n",
    "print(domain_names)"
   ]
  },
  {
   "cell_type": "markdown",
   "id": "d82133b9",
   "metadata": {},
   "source": [
    "### 8️⃣ Find all 6-digit PIN codes"
   ]
  },
  {
   "cell_type": "code",
   "execution_count": 51,
   "id": "af8732d0",
   "metadata": {},
   "outputs": [
    {
     "name": "stdout",
     "output_type": "stream",
     "text": [
      "['123456', '560001', '500027', '500081']\n"
     ]
    }
   ],
   "source": [
    "pin_codes = re.findall(r\"\\b[0-9]{6}+\\b\", text)\n",
    "print(pin_codes)"
   ]
  },
  {
   "cell_type": "markdown",
   "id": "1de52b49",
   "metadata": {},
   "source": [
    "### 9️⃣ Extract all hyperlinks (http or https)"
   ]
  },
  {
   "cell_type": "code",
   "execution_count": 54,
   "id": "46ecbbe0",
   "metadata": {},
   "outputs": [
    {
     "name": "stdout",
     "output_type": "stream",
     "text": [
      "['https://www.google.com/search?q=regex', 'http://github.com/bvkiran8058']\n"
     ]
    }
   ],
   "source": [
    "hyper_links = re.findall(r\"[h][t][t][p]\\S*\", text)\n",
    "print(hyper_links)"
   ]
  },
  {
   "cell_type": "markdown",
   "id": "375a8860",
   "metadata": {},
   "source": [
    "### 🔟 Find all prices prefixed with ₹"
   ]
  },
  {
   "cell_type": "code",
   "execution_count": 56,
   "id": "55f21fda",
   "metadata": {},
   "outputs": [
    {
     "name": "stdout",
     "output_type": "stream",
     "text": [
      "['₹499']\n"
     ]
    }
   ],
   "source": [
    "all_ind_rupee_with_commas = re.findall(r\"[₹][0-9,]+\", text)\n",
    "all_ind_rupee = [rupee.replace(',','') for rupee in all_ind_rupee_with_commas]\n",
    "print(all_ind_rupee)"
   ]
  },
  {
   "cell_type": "markdown",
   "id": "2f490638",
   "metadata": {},
   "source": [
    "### 1️⃣1️⃣ Extract all words ending with a digits"
   ]
  },
  {
   "cell_type": "code",
   "execution_count": 57,
   "id": "ce706ccf",
   "metadata": {},
   "outputs": [
    {
     "name": "stdout",
     "output_type": "stream",
     "text": [
      "['goud123', 'kiran8058', 'ABCDE1234', 'bvkiran8058', 'INV_9912', 'FF5733', 'ff00', 'Pro14', 'ssw0', 'admin123']\n"
     ]
    }
   ],
   "source": [
    "all_words_ends_with_digits = re.findall(r\"[A-za-z]+[0-9]+\", text)\n",
    "print(all_words_ends_with_digits)"
   ]
  },
  {
   "cell_type": "markdown",
   "id": "89601bca",
   "metadata": {},
   "source": [
    "### 1️⃣1️⃣.1️⃣ Extract all words ending with a one digit"
   ]
  },
  {
   "cell_type": "code",
   "execution_count": null,
   "id": "973a9054",
   "metadata": {},
   "outputs": [
    {
     "name": "stdout",
     "output_type": "stream",
     "text": [
      "[('G8', '\\n')]\n"
     ]
    }
   ],
   "source": [
    "all_words_ends_with_digit = re.findall(r\"([A-za-z]+[0-9])(\\s)\", text) \n",
    "print(all_words_ends_with_digit)"
   ]
  },
  {
   "cell_type": "markdown",
   "id": "a0fbd9dc",
   "metadata": {},
   "source": [
    "### 1️⃣2️⃣ Extract all dates in dd-mm-yyyy format"
   ]
  },
  {
   "cell_type": "code",
   "execution_count": 63,
   "id": "2d12d3cd",
   "metadata": {},
   "outputs": [
    {
     "name": "stdout",
     "output_type": "stream",
     "text": [
      "['12-08-1999']\n"
     ]
    }
   ],
   "source": [
    "all_dates = re.findall(r\"[0-9]{2}-[0,1][0-9]-[0-9]{4}\", text) \n",
    "print(all_dates)"
   ]
  },
  {
   "cell_type": "markdown",
   "id": "1e10b260",
   "metadata": {},
   "source": [
    "### 1️⃣3️⃣ Extract all words containing underscores"
   ]
  },
  {
   "cell_type": "code",
   "execution_count": null,
   "id": "fca5e594",
   "metadata": {},
   "outputs": [],
   "source": []
  }
 ],
 "metadata": {
  "kernelspec": {
   "display_name": "myenv (3.13.2)",
   "language": "python",
   "name": "python3"
  },
  "language_info": {
   "codemirror_mode": {
    "name": "ipython",
    "version": 3
   },
   "file_extension": ".py",
   "mimetype": "text/x-python",
   "name": "python",
   "nbconvert_exporter": "python",
   "pygments_lexer": "ipython3",
   "version": "3.13.2"
  }
 },
 "nbformat": 4,
 "nbformat_minor": 5
}
