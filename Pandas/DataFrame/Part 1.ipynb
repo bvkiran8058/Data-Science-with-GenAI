{
 "cells": [
  {
   "cell_type": "markdown",
   "id": "d2d6b58c",
   "metadata": {},
   "source": [
    "## Introduction\n",
    "\n",
    "* DataFrame is a 2-dimensional labeled data structutre with columns of potentially different types. It is like spreadsheet or SQL table, or dict of series objects. Used as pandas object\n",
    "* Comprised of 2 or more series\n",
    "* axis = 0 refers to the index\n",
    "* axis = 1 refers to the columns"
   ]
  },
  {
   "cell_type": "code",
   "execution_count": 1,
   "id": "6ff303ec",
   "metadata": {},
   "outputs": [],
   "source": [
    "import pandas as pd"
   ]
  },
  {
   "cell_type": "code",
   "execution_count": null,
   "id": "db12c589",
   "metadata": {},
   "outputs": [],
   "source": [
    "data = "
   ]
  }
 ],
 "metadata": {
  "kernelspec": {
   "display_name": "Python 3",
   "language": "python",
   "name": "python3"
  },
  "language_info": {
   "codemirror_mode": {
    "name": "ipython",
    "version": 3
   },
   "file_extension": ".py",
   "mimetype": "text/x-python",
   "name": "python",
   "nbconvert_exporter": "python",
   "pygments_lexer": "ipython3",
   "version": "3.12.3"
  }
 },
 "nbformat": 4,
 "nbformat_minor": 5
}
