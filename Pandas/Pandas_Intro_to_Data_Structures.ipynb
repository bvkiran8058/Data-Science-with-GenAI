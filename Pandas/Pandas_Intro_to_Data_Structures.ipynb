{
 "cells": [
  {
   "cell_type": "markdown",
   "id": "e267a059",
   "metadata": {},
   "source": [
    "# 📘 Pandas - Intro to Data Structures"
   ]
  },
  {
   "cell_type": "markdown",
   "id": "dc270289",
   "metadata": {},
   "source": [
    "\n",
    "This notebook covers the **introductory concepts of Pandas data structures** with clear explanations and examples.\n",
    "We’ll explore:\n",
    "- **Series**\n",
    "- **DataFrame**\n",
    "- Indexing, access, and basic operations\n"
   ]
  },
  {
   "cell_type": "markdown",
   "id": "9bc054a5",
   "metadata": {},
   "source": [
    "## 🟢 Series"
   ]
  },
  {
   "cell_type": "markdown",
   "id": "4b4db584",
   "metadata": {},
   "source": [
    "\n",
    "A **Series** is a one-dimensional labeled array capable of holding any data type (integers, strings, floats, Python objects, etc.).  \n",
    "It’s similar to a column in an Excel sheet or a single column in a database table.\n"
   ]
  },
  {
   "cell_type": "code",
   "execution_count": null,
   "id": "3ab6328c",
   "metadata": {},
   "outputs": [],
   "source": [
    "\n",
    "import pandas as pd\n",
    "import numpy as np\n",
    "\n",
    "# Create a simple Series\n",
    "s = pd.Series([1, 3, 5, np.nan, 6, 8])\n",
    "print(\"Series:\")\n",
    "print(s)\n"
   ]
  },
  {
   "cell_type": "markdown",
   "id": "c37789d9",
   "metadata": {},
   "source": [
    "### Custom Index for Series"
   ]
  },
  {
   "cell_type": "code",
   "execution_count": null,
   "id": "51ebdfb7",
   "metadata": {},
   "outputs": [],
   "source": [
    "\n",
    "s_custom = pd.Series([10, 20, 30], index=['a', 'b', 'c'])\n",
    "print(\"Custom Index Series:\")\n",
    "print(s_custom)\n",
    "print(\"\\nAccess element 'b':\", s_custom['b'])\n"
   ]
  },
  {
   "cell_type": "markdown",
   "id": "e2bf94a6",
   "metadata": {},
   "source": [
    "### Series from Dictionary"
   ]
  },
  {
   "cell_type": "code",
   "execution_count": null,
   "id": "a9bc1f84",
   "metadata": {},
   "outputs": [],
   "source": [
    "\n",
    "data_dict = {'x': 100, 'y': 200, 'z': 300}\n",
    "s_from_dict = pd.Series(data_dict)\n",
    "s_from_dict\n"
   ]
  },
  {
   "cell_type": "markdown",
   "id": "987818be",
   "metadata": {},
   "source": [
    "### Vectorized Operations"
   ]
  },
  {
   "cell_type": "code",
   "execution_count": null,
   "id": "52f64b9f",
   "metadata": {},
   "outputs": [],
   "source": [
    "\n",
    "s_ops = pd.Series([1, 2, 3, 4])\n",
    "print(\"Original:\", s_ops.values)\n",
    "print(\"Add 10:\", s_ops + 10)\n",
    "print(\"Squared:\", s_ops ** 2)\n"
   ]
  },
  {
   "cell_type": "markdown",
   "id": "c2cc5aac",
   "metadata": {},
   "source": [
    "## 🔵 DataFrame"
   ]
  },
  {
   "cell_type": "markdown",
   "id": "5edd0f43",
   "metadata": {},
   "source": [
    "\n",
    "A **DataFrame** is a 2D labeled data structure with columns of potentially different types — similar to a spreadsheet or SQL table.\n"
   ]
  },
  {
   "cell_type": "code",
   "execution_count": null,
   "id": "da032e1b",
   "metadata": {},
   "outputs": [],
   "source": [
    "\n",
    "data = {\n",
    "    'Name': ['Alice', 'Bob', 'Charlie', 'David'],\n",
    "    'Age': [24, 27, 22, 32],\n",
    "    'City': ['New York', 'London', 'Paris', 'Tokyo']\n",
    "}\n",
    "df = pd.DataFrame(data)\n",
    "df\n"
   ]
  },
  {
   "cell_type": "markdown",
   "id": "ad5a17bb",
   "metadata": {},
   "source": [
    "### DataFrame from NumPy Array"
   ]
  },
  {
   "cell_type": "code",
   "execution_count": null,
   "id": "ec4b6c2d",
   "metadata": {},
   "outputs": [],
   "source": [
    "\n",
    "arr = np.random.randn(4, 3)\n",
    "df_arr = pd.DataFrame(arr, columns=['A', 'B', 'C'])\n",
    "df_arr\n"
   ]
  },
  {
   "cell_type": "markdown",
   "id": "8975e25c",
   "metadata": {},
   "source": [
    "### Accessing Data in DataFrame"
   ]
  },
  {
   "cell_type": "code",
   "execution_count": null,
   "id": "f0021526",
   "metadata": {},
   "outputs": [],
   "source": [
    "\n",
    "print(\"First 2 rows:\")\n",
    "print(df.head(2))\n",
    "print(\"\\nAccess 'Name' column:\")\n",
    "print(df['Name'])\n",
    "print(\"\\nAccess row by label (loc):\")\n",
    "print(df.loc[1])\n",
    "print(\"\\nAccess row by position (iloc):\")\n",
    "print(df.iloc[2])\n"
   ]
  },
  {
   "cell_type": "markdown",
   "id": "7624387c",
   "metadata": {},
   "source": [
    "### Adding and Deleting Columns"
   ]
  },
  {
   "cell_type": "code",
   "execution_count": null,
   "id": "d14cd1c3",
   "metadata": {},
   "outputs": [],
   "source": [
    "\n",
    "df['Salary'] = [50000, 60000, 45000, 70000]\n",
    "print(\"After adding column:\")\n",
    "print(df)\n",
    "\n",
    "df = df.drop(columns=['Age'])\n",
    "print(\"\\nAfter deleting 'Age' column:\")\n",
    "print(df)\n"
   ]
  },
  {
   "cell_type": "markdown",
   "id": "d166b684",
   "metadata": {},
   "source": [
    "### Basic Operations on DataFrame"
   ]
  },
  {
   "cell_type": "code",
   "execution_count": null,
   "id": "2deb7d60",
   "metadata": {},
   "outputs": [],
   "source": [
    "\n",
    "print(\"Summary statistics:\")\n",
    "print(df.describe())\n",
    "\n",
    "print(\"\\nTranspose:\")\n",
    "print(df.T)\n"
   ]
  },
  {
   "cell_type": "markdown",
   "id": "82f1f863",
   "metadata": {},
   "source": [
    "### Handling Missing Data"
   ]
  },
  {
   "cell_type": "code",
   "execution_count": null,
   "id": "9f227ffd",
   "metadata": {},
   "outputs": [],
   "source": [
    "\n",
    "df_nan = df.copy()\n",
    "df_nan.loc[2, 'Salary'] = np.nan\n",
    "print(\"With missing data:\")\n",
    "print(df_nan)\n",
    "\n",
    "print(\"\\nAfter filling NaN with mean:\")\n",
    "df_nan['Salary'] = df_nan['Salary'].fillna(df_nan['Salary'].mean())\n",
    "print(df_nan)\n"
   ]
  },
  {
   "cell_type": "markdown",
   "id": "1f2e5008",
   "metadata": {},
   "source": [
    "\n",
    "## ✅ Summary\n",
    "- **Series** → 1D labeled array  \n",
    "- **DataFrame** → 2D labeled table  \n",
    "- Support for vectorized operations, alignment by labels, and missing data handling  \n"
   ]
  }
 ],
 "metadata": {},
 "nbformat": 4,
 "nbformat_minor": 5
}