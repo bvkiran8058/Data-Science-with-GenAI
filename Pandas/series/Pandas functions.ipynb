{
 "cells": [
  {
   "cell_type": "code",
   "execution_count": 1,
   "id": "51187045",
   "metadata": {},
   "outputs": [],
   "source": [
    "import pandas as pd\n",
    "import numpy as np"
   ]
  },
  {
   "cell_type": "markdown",
   "id": "11147763",
   "metadata": {},
   "source": [
    "# Series"
   ]
  },
  {
   "cell_type": "code",
   "execution_count": 2,
   "id": "9b5768cd",
   "metadata": {},
   "outputs": [
    {
     "name": "stdout",
     "output_type": "stream",
     "text": [
      "a    1\n",
      "b    2\n",
      "c    3\n",
      "dtype: int64\n"
     ]
    }
   ],
   "source": [
    "# using dict\n",
    "data = {\n",
    "    'a':1,\n",
    "    'b':2,\n",
    "    'c':3\n",
    "}\n",
    "series = pd.Series(data)\n",
    "print(series)"
   ]
  },
  {
   "cell_type": "code",
   "execution_count": 3,
   "id": "a324ef73",
   "metadata": {},
   "outputs": [
    {
     "name": "stdout",
     "output_type": "stream",
     "text": [
      "a    1\n",
      "b    2\n",
      "c    3\n",
      "dtype: int64\n",
      "============================================================\n",
      "x   NaN\n",
      "y   NaN\n",
      "z   NaN\n",
      "dtype: float64\n"
     ]
    }
   ],
   "source": [
    "# if we give index if it is not equal to key it will give NaN\n",
    "series = pd.Series(data, index = ['a', 'b', 'c'])\n",
    "print(series)\n",
    "print(\"===\"*20)\n",
    "series = pd.Series(data, index = ['x', 'y', 'z'])\n",
    "print(series)"
   ]
  },
  {
   "cell_type": "code",
   "execution_count": 4,
   "id": "45e05998",
   "metadata": {},
   "outputs": [
    {
     "data": {
      "text/plain": [
       "[7, 0, 6, 1, 9]"
      ]
     },
     "execution_count": 4,
     "metadata": {},
     "output_type": "execute_result"
    }
   ],
   "source": [
    "np.random.randint(0,10,5).tolist()"
   ]
  },
  {
   "cell_type": "code",
   "execution_count": 5,
   "id": "5808eeb4",
   "metadata": {},
   "outputs": [
    {
     "data": {
      "text/plain": [
       "(0    4\n",
       " 1    0\n",
       " 2    9\n",
       " 3    9\n",
       " 4    0\n",
       " Name: numpy series, dtype: int32,\n",
       " 0    1\n",
       " 1    9\n",
       " 2    7\n",
       " 3    0\n",
       " 4    3\n",
       " dtype: int64)"
      ]
     },
     "execution_count": 5,
     "metadata": {},
     "output_type": "execute_result"
    }
   ],
   "source": [
    "# with list\n",
    "series = pd.Series(np.random.randint(0,10,5), name='numpy series')\n",
    "series1 = pd.Series(np.random.randint(0,10,5).tolist())\n",
    "series, series1"
   ]
  },
  {
   "cell_type": "markdown",
   "id": "53ed3ab0",
   "metadata": {},
   "source": [
    "## attributes"
   ]
  },
  {
   "cell_type": "code",
   "execution_count": 6,
   "id": "645119b4",
   "metadata": {},
   "outputs": [
    {
     "data": {
      "text/plain": [
       "['T',\n",
       " '_AXIS_LEN',\n",
       " '_AXIS_ORDERS',\n",
       " '_AXIS_TO_AXIS_NUMBER',\n",
       " '_HANDLED_TYPES',\n",
       " '__abs__',\n",
       " '__add__',\n",
       " '__and__',\n",
       " '__annotations__',\n",
       " '__array__',\n",
       " '__array_priority__',\n",
       " '__array_ufunc__',\n",
       " '__bool__',\n",
       " '__class__',\n",
       " '__column_consortium_standard__',\n",
       " '__contains__',\n",
       " '__copy__',\n",
       " '__deepcopy__',\n",
       " '__delattr__',\n",
       " '__delitem__',\n",
       " '__dict__',\n",
       " '__dir__',\n",
       " '__divmod__',\n",
       " '__doc__',\n",
       " '__eq__',\n",
       " '__finalize__',\n",
       " '__float__',\n",
       " '__floordiv__',\n",
       " '__format__',\n",
       " '__ge__',\n",
       " '__getattr__',\n",
       " '__getattribute__',\n",
       " '__getitem__',\n",
       " '__getstate__',\n",
       " '__gt__',\n",
       " '__hash__',\n",
       " '__iadd__',\n",
       " '__iand__',\n",
       " '__ifloordiv__',\n",
       " '__imod__',\n",
       " '__imul__',\n",
       " '__init__',\n",
       " '__init_subclass__',\n",
       " '__int__',\n",
       " '__invert__',\n",
       " '__ior__',\n",
       " '__ipow__',\n",
       " '__isub__',\n",
       " '__iter__',\n",
       " '__itruediv__',\n",
       " '__ixor__',\n",
       " '__le__',\n",
       " '__len__',\n",
       " '__lt__',\n",
       " '__matmul__',\n",
       " '__mod__',\n",
       " '__module__',\n",
       " '__mul__',\n",
       " '__ne__',\n",
       " '__neg__',\n",
       " '__new__',\n",
       " '__nonzero__',\n",
       " '__or__',\n",
       " '__pandas_priority__',\n",
       " '__pos__',\n",
       " '__pow__',\n",
       " '__radd__',\n",
       " '__rand__',\n",
       " '__rdivmod__',\n",
       " '__reduce__',\n",
       " '__reduce_ex__',\n",
       " '__repr__',\n",
       " '__rfloordiv__',\n",
       " '__rmatmul__',\n",
       " '__rmod__',\n",
       " '__rmul__',\n",
       " '__ror__',\n",
       " '__round__',\n",
       " '__rpow__',\n",
       " '__rsub__',\n",
       " '__rtruediv__',\n",
       " '__rxor__',\n",
       " '__setattr__',\n",
       " '__setitem__',\n",
       " '__setstate__',\n",
       " '__sizeof__',\n",
       " '__str__',\n",
       " '__sub__',\n",
       " '__subclasshook__',\n",
       " '__truediv__',\n",
       " '__weakref__',\n",
       " '__xor__',\n",
       " '_accessors',\n",
       " '_accum_func',\n",
       " '_agg_examples_doc',\n",
       " '_agg_see_also_doc',\n",
       " '_align_for_op',\n",
       " '_align_frame',\n",
       " '_align_series',\n",
       " '_append',\n",
       " '_arith_method',\n",
       " '_as_manager',\n",
       " '_attrs',\n",
       " '_binop',\n",
       " '_can_hold_na',\n",
       " '_check_inplace_and_allows_duplicate_labels',\n",
       " '_check_is_chained_assignment_possible',\n",
       " '_check_label_or_level_ambiguity',\n",
       " '_check_setitem_copy',\n",
       " '_clear_item_cache',\n",
       " '_clip_with_one_bound',\n",
       " '_clip_with_scalar',\n",
       " '_cmp_method',\n",
       " '_consolidate',\n",
       " '_consolidate_inplace',\n",
       " '_construct_axes_dict',\n",
       " '_construct_result',\n",
       " '_constructor',\n",
       " '_constructor_expanddim',\n",
       " '_constructor_expanddim_from_mgr',\n",
       " '_constructor_from_mgr',\n",
       " '_data',\n",
       " '_deprecate_downcast',\n",
       " '_dir_additions',\n",
       " '_dir_deletions',\n",
       " '_drop_axis',\n",
       " '_drop_labels_or_levels',\n",
       " '_duplicated',\n",
       " '_find_valid_index',\n",
       " '_flags',\n",
       " '_flex_method',\n",
       " '_from_mgr',\n",
       " '_get_axis',\n",
       " '_get_axis_name',\n",
       " '_get_axis_number',\n",
       " '_get_axis_resolvers',\n",
       " '_get_block_manager_axis',\n",
       " '_get_bool_data',\n",
       " '_get_cacher',\n",
       " '_get_cleaned_column_resolvers',\n",
       " '_get_index_resolvers',\n",
       " '_get_label_or_level_values',\n",
       " '_get_numeric_data',\n",
       " '_get_rows_with_mask',\n",
       " '_get_value',\n",
       " '_get_values_tuple',\n",
       " '_get_with',\n",
       " '_getitem_slice',\n",
       " '_gotitem',\n",
       " '_hidden_attrs',\n",
       " '_indexed_same',\n",
       " '_info_axis',\n",
       " '_info_axis_name',\n",
       " '_info_axis_number',\n",
       " '_init_dict',\n",
       " '_init_mgr',\n",
       " '_inplace_method',\n",
       " '_internal_names',\n",
       " '_internal_names_set',\n",
       " '_is_cached',\n",
       " '_is_copy',\n",
       " '_is_label_or_level_reference',\n",
       " '_is_label_reference',\n",
       " '_is_level_reference',\n",
       " '_is_mixed_type',\n",
       " '_is_view',\n",
       " '_is_view_after_cow_rules',\n",
       " '_item_cache',\n",
       " '_ixs',\n",
       " '_logical_func',\n",
       " '_logical_method',\n",
       " '_map_values',\n",
       " '_maybe_update_cacher',\n",
       " '_memory_usage',\n",
       " '_metadata',\n",
       " '_mgr',\n",
       " '_min_count_stat_function',\n",
       " '_name',\n",
       " '_needs_reindex_multi',\n",
       " '_pad_or_backfill',\n",
       " '_protect_consolidate',\n",
       " '_reduce',\n",
       " '_references',\n",
       " '_reindex_axes',\n",
       " '_reindex_indexer',\n",
       " '_reindex_multi',\n",
       " '_reindex_with_indexers',\n",
       " '_rename',\n",
       " '_replace_single',\n",
       " '_repr_data_resource_',\n",
       " '_repr_latex_',\n",
       " '_reset_cache',\n",
       " '_reset_cacher',\n",
       " '_set_as_cached',\n",
       " '_set_axis',\n",
       " '_set_axis_name',\n",
       " '_set_axis_nocheck',\n",
       " '_set_is_copy',\n",
       " '_set_labels',\n",
       " '_set_name',\n",
       " '_set_value',\n",
       " '_set_values',\n",
       " '_set_with',\n",
       " '_set_with_engine',\n",
       " '_shift_with_freq',\n",
       " '_slice',\n",
       " '_stat_function',\n",
       " '_stat_function_ddof',\n",
       " '_take_with_is_copy',\n",
       " '_to_latex_via_styler',\n",
       " '_typ',\n",
       " '_update_inplace',\n",
       " '_validate_dtype',\n",
       " '_values',\n",
       " '_where',\n",
       " 'abs',\n",
       " 'add',\n",
       " 'add_prefix',\n",
       " 'add_suffix',\n",
       " 'agg',\n",
       " 'aggregate',\n",
       " 'align',\n",
       " 'all',\n",
       " 'any',\n",
       " 'apply',\n",
       " 'argmax',\n",
       " 'argmin',\n",
       " 'argsort',\n",
       " 'array',\n",
       " 'asfreq',\n",
       " 'asof',\n",
       " 'astype',\n",
       " 'at',\n",
       " 'at_time',\n",
       " 'attrs',\n",
       " 'autocorr',\n",
       " 'axes',\n",
       " 'backfill',\n",
       " 'between',\n",
       " 'between_time',\n",
       " 'bfill',\n",
       " 'bool',\n",
       " 'case_when',\n",
       " 'clip',\n",
       " 'combine',\n",
       " 'combine_first',\n",
       " 'compare',\n",
       " 'convert_dtypes',\n",
       " 'copy',\n",
       " 'corr',\n",
       " 'count',\n",
       " 'cov',\n",
       " 'cummax',\n",
       " 'cummin',\n",
       " 'cumprod',\n",
       " 'cumsum',\n",
       " 'describe',\n",
       " 'diff',\n",
       " 'div',\n",
       " 'divide',\n",
       " 'divmod',\n",
       " 'dot',\n",
       " 'drop',\n",
       " 'drop_duplicates',\n",
       " 'droplevel',\n",
       " 'dropna',\n",
       " 'dtype',\n",
       " 'dtypes',\n",
       " 'duplicated',\n",
       " 'empty',\n",
       " 'eq',\n",
       " 'equals',\n",
       " 'ewm',\n",
       " 'expanding',\n",
       " 'explode',\n",
       " 'factorize',\n",
       " 'ffill',\n",
       " 'fillna',\n",
       " 'filter',\n",
       " 'first',\n",
       " 'first_valid_index',\n",
       " 'flags',\n",
       " 'floordiv',\n",
       " 'ge',\n",
       " 'get',\n",
       " 'groupby',\n",
       " 'gt',\n",
       " 'hasnans',\n",
       " 'head',\n",
       " 'hist',\n",
       " 'iat',\n",
       " 'idxmax',\n",
       " 'idxmin',\n",
       " 'iloc',\n",
       " 'index',\n",
       " 'infer_objects',\n",
       " 'info',\n",
       " 'interpolate',\n",
       " 'is_monotonic_decreasing',\n",
       " 'is_monotonic_increasing',\n",
       " 'is_unique',\n",
       " 'isin',\n",
       " 'isna',\n",
       " 'isnull',\n",
       " 'item',\n",
       " 'items',\n",
       " 'keys',\n",
       " 'kurt',\n",
       " 'kurtosis',\n",
       " 'last',\n",
       " 'last_valid_index',\n",
       " 'le',\n",
       " 'list',\n",
       " 'loc',\n",
       " 'lt',\n",
       " 'map',\n",
       " 'mask',\n",
       " 'max',\n",
       " 'mean',\n",
       " 'median',\n",
       " 'memory_usage',\n",
       " 'min',\n",
       " 'mod',\n",
       " 'mode',\n",
       " 'mul',\n",
       " 'multiply',\n",
       " 'name',\n",
       " 'nbytes',\n",
       " 'ndim',\n",
       " 'ne',\n",
       " 'nlargest',\n",
       " 'notna',\n",
       " 'notnull',\n",
       " 'nsmallest',\n",
       " 'nunique',\n",
       " 'pad',\n",
       " 'pct_change',\n",
       " 'pipe',\n",
       " 'plot',\n",
       " 'pop',\n",
       " 'pow',\n",
       " 'prod',\n",
       " 'product',\n",
       " 'quantile',\n",
       " 'radd',\n",
       " 'rank',\n",
       " 'ravel',\n",
       " 'rdiv',\n",
       " 'rdivmod',\n",
       " 'reindex',\n",
       " 'reindex_like',\n",
       " 'rename',\n",
       " 'rename_axis',\n",
       " 'reorder_levels',\n",
       " 'repeat',\n",
       " 'replace',\n",
       " 'resample',\n",
       " 'reset_index',\n",
       " 'rfloordiv',\n",
       " 'rmod',\n",
       " 'rmul',\n",
       " 'rolling',\n",
       " 'round',\n",
       " 'rpow',\n",
       " 'rsub',\n",
       " 'rtruediv',\n",
       " 'sample',\n",
       " 'searchsorted',\n",
       " 'sem',\n",
       " 'set_axis',\n",
       " 'set_flags',\n",
       " 'shape',\n",
       " 'shift',\n",
       " 'size',\n",
       " 'skew',\n",
       " 'sort_index',\n",
       " 'sort_values',\n",
       " 'squeeze',\n",
       " 'std',\n",
       " 'struct',\n",
       " 'sub',\n",
       " 'subtract',\n",
       " 'sum',\n",
       " 'swapaxes',\n",
       " 'swaplevel',\n",
       " 'tail',\n",
       " 'take',\n",
       " 'to_clipboard',\n",
       " 'to_csv',\n",
       " 'to_dict',\n",
       " 'to_excel',\n",
       " 'to_frame',\n",
       " 'to_hdf',\n",
       " 'to_json',\n",
       " 'to_latex',\n",
       " 'to_list',\n",
       " 'to_markdown',\n",
       " 'to_numpy',\n",
       " 'to_period',\n",
       " 'to_pickle',\n",
       " 'to_sql',\n",
       " 'to_string',\n",
       " 'to_timestamp',\n",
       " 'to_xarray',\n",
       " 'transform',\n",
       " 'transpose',\n",
       " 'truediv',\n",
       " 'truncate',\n",
       " 'tz_convert',\n",
       " 'tz_localize',\n",
       " 'unique',\n",
       " 'unstack',\n",
       " 'update',\n",
       " 'value_counts',\n",
       " 'values',\n",
       " 'var',\n",
       " 'view',\n",
       " 'where',\n",
       " 'xs']"
      ]
     },
     "execution_count": 6,
     "metadata": {},
     "output_type": "execute_result"
    }
   ],
   "source": [
    "dir(series)"
   ]
  },
  {
   "cell_type": "code",
   "execution_count": 7,
   "id": "d292c6ba",
   "metadata": {},
   "outputs": [
    {
     "data": {
      "text/plain": [
       "(dtype('int32'), 5, RangeIndex(start=0, stop=5, step=1), False, (5,))"
      ]
     },
     "execution_count": 7,
     "metadata": {},
     "output_type": "execute_result"
    }
   ],
   "source": [
    "series.dtype, series.size, series.index, series.hasnans, series.shape"
   ]
  },
  {
   "cell_type": "code",
   "execution_count": 8,
   "id": "4a7eb3dd",
   "metadata": {},
   "outputs": [
    {
     "name": "stdout",
     "output_type": "stream",
     "text": [
      "0\n",
      "1\n",
      "2\n",
      "3\n",
      "4\n"
     ]
    }
   ],
   "source": [
    "for i in series.index:\n",
    "    print(i)"
   ]
  },
  {
   "cell_type": "code",
   "execution_count": 9,
   "id": "880a6d2d",
   "metadata": {},
   "outputs": [],
   "source": [
    "series = pd.Series(np.random.randint(0,100,100), name='numpy series')\n",
    "series1 = pd.Series(np.random.randint(0,10,5), name='alpha index', index= ['a','b','c','d','e'])"
   ]
  },
  {
   "cell_type": "code",
   "execution_count": 10,
   "id": "e1e0876b",
   "metadata": {},
   "outputs": [
    {
     "data": {
      "text/plain": [
       "(0,\n",
       " 99,\n",
       " 4894,\n",
       " 48.94,\n",
       " 27.348044821441178,\n",
       " 747.9155555555556,\n",
       " array([62, 22, 79, 47, 26, 82, 67, 87, 35, 22, 54, 66, 48, 78,  4, 36, 26,\n",
       "        65,  3, 60, 29, 32, 99, 36,  6, 73, 46, 18, 74, 15,  5, 60,  5, 98,\n",
       "        60, 24, 83,  3, 88, 72, 31, 50, 43, 48, 73, 42, 33, 65, 69, 28, 95,\n",
       "         6, 38, 77, 45, 62, 81, 69, 77, 36, 48, 55,  5, 55, 61, 36, 93, 38,\n",
       "        18, 28, 47, 91, 16, 91, 38, 31, 40,  0, 24, 37, 52, 42, 16, 92, 90,\n",
       "        90,  2, 29, 62, 11, 89, 30, 24, 37, 65, 52, 91, 56, 76, 73]))"
      ]
     },
     "execution_count": 10,
     "metadata": {},
     "output_type": "execute_result"
    }
   ],
   "source": [
    "series.min(), series.max(), series.sum(), series.mean(), series.std(), series.var(), series.values"
   ]
  },
  {
   "cell_type": "code",
   "execution_count": 11,
   "id": "58d64a1e",
   "metadata": {},
   "outputs": [
    {
     "data": {
      "text/plain": [
       "(array([3, 6, 3, 9, 8]), 'd', 'a')"
      ]
     },
     "execution_count": 11,
     "metadata": {},
     "output_type": "execute_result"
    }
   ],
   "source": [
    "series1.values, series1.idxmax(), series1.idxmin()"
   ]
  },
  {
   "cell_type": "code",
   "execution_count": 12,
   "id": "1af10906",
   "metadata": {},
   "outputs": [
    {
     "data": {
      "text/plain": [
       "(0     False\n",
       " 1     False\n",
       " 2     False\n",
       " 3     False\n",
       " 4     False\n",
       "       ...  \n",
       " 95    False\n",
       " 96    False\n",
       " 97    False\n",
       " 98    False\n",
       " 99    False\n",
       " Name: numpy series, Length: 100, dtype: bool,\n",
       " 0     62\n",
       " 1     22\n",
       " 2     79\n",
       " 3     47\n",
       " 4     26\n",
       "       ..\n",
       " 95    52\n",
       " 96    91\n",
       " 97    56\n",
       " 98    76\n",
       " 99    73\n",
       " Name: numpy series, Length: 100, dtype: int32)"
      ]
     },
     "execution_count": 12,
     "metadata": {},
     "output_type": "execute_result"
    }
   ],
   "source": [
    "series.isnull(), series.round(decimals=2) # round for float numbers"
   ]
  },
  {
   "cell_type": "markdown",
   "id": "9c99efe6",
   "metadata": {},
   "source": [
    "## read_csv with use cols"
   ]
  },
  {
   "cell_type": "code",
   "execution_count": 13,
   "id": "67846dff",
   "metadata": {},
   "outputs": [
    {
     "data": {
      "text/html": [
       "<div>\n",
       "<style scoped>\n",
       "    .dataframe tbody tr th:only-of-type {\n",
       "        vertical-align: middle;\n",
       "    }\n",
       "\n",
       "    .dataframe tbody tr th {\n",
       "        vertical-align: top;\n",
       "    }\n",
       "\n",
       "    .dataframe thead th {\n",
       "        text-align: right;\n",
       "    }\n",
       "</style>\n",
       "<table border=\"1\" class=\"dataframe\">\n",
       "  <thead>\n",
       "    <tr style=\"text-align: right;\">\n",
       "      <th></th>\n",
       "      <th>NetWorth</th>\n",
       "    </tr>\n",
       "    <tr>\n",
       "      <th>Name</th>\n",
       "      <th></th>\n",
       "    </tr>\n",
       "  </thead>\n",
       "  <tbody>\n",
       "    <tr>\n",
       "      <th>Elon Musk</th>\n",
       "      <td>$219,000,000,000</td>\n",
       "    </tr>\n",
       "    <tr>\n",
       "      <th>Jeff Bezos</th>\n",
       "      <td>$171,000,000,000</td>\n",
       "    </tr>\n",
       "    <tr>\n",
       "      <th>Bernard Arnault &amp; family</th>\n",
       "      <td>$158,000,000,000</td>\n",
       "    </tr>\n",
       "    <tr>\n",
       "      <th>Bill Gates</th>\n",
       "      <td>$129,000,000,000</td>\n",
       "    </tr>\n",
       "    <tr>\n",
       "      <th>Warren Buffett</th>\n",
       "      <td>$118,000,000,000</td>\n",
       "    </tr>\n",
       "    <tr>\n",
       "      <th>...</th>\n",
       "      <td>...</td>\n",
       "    </tr>\n",
       "    <tr>\n",
       "      <th>Vladimir Potanin</th>\n",
       "      <td>$17,300,000,000</td>\n",
       "    </tr>\n",
       "    <tr>\n",
       "      <th>Harold Hamm &amp; family</th>\n",
       "      <td>$17,200,000,000</td>\n",
       "    </tr>\n",
       "    <tr>\n",
       "      <th>Sun Piaoyang</th>\n",
       "      <td>$17,100,000,000</td>\n",
       "    </tr>\n",
       "    <tr>\n",
       "      <th>Luo Liguo &amp; family</th>\n",
       "      <td>$17,000,000,000</td>\n",
       "    </tr>\n",
       "    <tr>\n",
       "      <th>Peter Woo</th>\n",
       "      <td>$17,000,000,000</td>\n",
       "    </tr>\n",
       "  </tbody>\n",
       "</table>\n",
       "<p>101 rows × 1 columns</p>\n",
       "</div>"
      ],
      "text/plain": [
       "                                  NetWorth\n",
       "Name                                      \n",
       "Elon Musk                 $219,000,000,000\n",
       "Jeff Bezos                $171,000,000,000\n",
       "Bernard Arnault & family  $158,000,000,000\n",
       "Bill Gates                $129,000,000,000\n",
       "Warren Buffett            $118,000,000,000\n",
       "...                                    ...\n",
       "Vladimir Potanin           $17,300,000,000\n",
       "Harold Hamm & family       $17,200,000,000\n",
       "Sun Piaoyang               $17,100,000,000\n",
       "Luo Liguo & family         $17,000,000,000\n",
       "Peter Woo                  $17,000,000,000\n",
       "\n",
       "[101 rows x 1 columns]"
      ]
     },
     "execution_count": 13,
     "metadata": {},
     "output_type": "execute_result"
    }
   ],
   "source": [
    "networth = pd.read_csv('../../data/TopRichestInWorld.csv', usecols=['Name', 'NetWorth'], header=0, index_col='Name')\n",
    "networth"
   ]
  },
  {
   "cell_type": "code",
   "execution_count": 14,
   "id": "5f74d7f7",
   "metadata": {},
   "outputs": [
    {
     "data": {
      "text/plain": [
       "Name\n",
       "Elon Musk                   $219,000,000,000\n",
       "Jeff Bezos                  $171,000,000,000\n",
       "Bernard Arnault & family    $158,000,000,000\n",
       "Bill Gates                  $129,000,000,000\n",
       "Warren Buffett              $118,000,000,000\n",
       "                                  ...       \n",
       "Vladimir Potanin             $17,300,000,000\n",
       "Harold Hamm & family         $17,200,000,000\n",
       "Sun Piaoyang                 $17,100,000,000\n",
       "Luo Liguo & family           $17,000,000,000\n",
       "Peter Woo                    $17,000,000,000\n",
       "Name: NetWorth, Length: 101, dtype: object"
      ]
     },
     "execution_count": 14,
     "metadata": {},
     "output_type": "execute_result"
    }
   ],
   "source": [
    "networth_series = networth.squeeze()\n",
    "networth_series"
   ]
  },
  {
   "cell_type": "code",
   "execution_count": 15,
   "id": "3aa92048",
   "metadata": {},
   "outputs": [
    {
     "data": {
      "text/plain": [
       "('$91,400,000,000', 'Steve Ballmer')"
      ]
     },
     "execution_count": 15,
     "metadata": {},
     "output_type": "execute_result"
    }
   ],
   "source": [
    "networth_series.max(), networth_series.idxmax()"
   ]
  },
  {
   "cell_type": "code",
   "execution_count": 16,
   "id": "6fc49f6f",
   "metadata": {},
   "outputs": [
    {
     "data": {
      "text/plain": [
       "Name\n",
       "Elon Musk                   2.190000e+11\n",
       "Jeff Bezos                  1.710000e+11\n",
       "Bernard Arnault & family    1.580000e+11\n",
       "Bill Gates                  1.290000e+11\n",
       "Warren Buffett              1.180000e+11\n",
       "                                ...     \n",
       "Vladimir Potanin            1.730000e+10\n",
       "Harold Hamm & family        1.720000e+10\n",
       "Sun Piaoyang                1.710000e+10\n",
       "Luo Liguo & family          1.700000e+10\n",
       "Peter Woo                   1.700000e+10\n",
       "Name: NetWorth, Length: 101, dtype: float64"
      ]
     },
     "execution_count": 16,
     "metadata": {},
     "output_type": "execute_result"
    }
   ],
   "source": [
    "name_series=networth_series.str.replace('$', '').str.replace(',','').astype(float)\n",
    "name_series"
   ]
  },
  {
   "cell_type": "code",
   "execution_count": 17,
   "id": "eb64bf71",
   "metadata": {},
   "outputs": [
    {
     "data": {
      "text/plain": [
       "('$91,400,000,000', 'Steve Ballmer')"
      ]
     },
     "execution_count": 17,
     "metadata": {},
     "output_type": "execute_result"
    }
   ],
   "source": [
    "networth_series.max(), networth_series.idxmax()"
   ]
  },
  {
   "cell_type": "code",
   "execution_count": 18,
   "id": "136817cc",
   "metadata": {},
   "outputs": [],
   "source": [
    "networth_series.to_csv('test.csv', index=False)"
   ]
  },
  {
   "cell_type": "markdown",
   "id": "7f58e809",
   "metadata": {},
   "source": [
    "## sort_values and sort_index"
   ]
  },
  {
   "cell_type": "code",
   "execution_count": 19,
   "id": "b2f5c05f",
   "metadata": {},
   "outputs": [
    {
     "data": {
      "text/plain": [
       "Name\n",
       "Larry Ellison                $106,000,000,000\n",
       "Sergey Brin                  $107,000,000,000\n",
       "Larry Page                   $111,000,000,000\n",
       "Warren Buffett               $118,000,000,000\n",
       "Bill Gates                   $129,000,000,000\n",
       "                                   ...       \n",
       "Carlos Slim Helu & family     $81,200,000,000\n",
       "Michael Bloomberg             $82,000,000,000\n",
       "Gautam Adani & family         $90,000,000,000\n",
       "Mukesh Ambani                 $90,700,000,000\n",
       "Steve Ballmer                 $91,400,000,000\n",
       "Name: NetWorth, Length: 101, dtype: object"
      ]
     },
     "execution_count": 19,
     "metadata": {},
     "output_type": "execute_result"
    }
   ],
   "source": [
    "networth_series.sort_values(axis=0)"
   ]
  },
  {
   "cell_type": "code",
   "execution_count": 20,
   "id": "04fa84a7",
   "metadata": {},
   "outputs": [
    {
     "data": {
      "text/plain": [
       "0      $106,000,000,000\n",
       "1      $107,000,000,000\n",
       "2      $111,000,000,000\n",
       "3      $118,000,000,000\n",
       "4      $129,000,000,000\n",
       "             ...       \n",
       "96      $81,200,000,000\n",
       "97      $82,000,000,000\n",
       "98      $90,000,000,000\n",
       "99      $90,700,000,000\n",
       "100     $91,400,000,000\n",
       "Name: NetWorth, Length: 101, dtype: object"
      ]
     },
     "execution_count": 20,
     "metadata": {},
     "output_type": "execute_result"
    }
   ],
   "source": [
    "networth_series.sort_values(axis=0, ignore_index=True)"
   ]
  },
  {
   "cell_type": "code",
   "execution_count": 21,
   "id": "5b26e2ec",
   "metadata": {},
   "outputs": [
    {
     "data": {
      "text/plain": [
       "Name\n",
       "Abigail Johnson          $21,200,000,000\n",
       "Alain Wertheimer         $31,200,000,000\n",
       "Alice Walton             $65,300,000,000\n",
       "Amancio Ortega           $59,600,000,000\n",
       "Andrew Forrest           $17,800,000,000\n",
       "                              ...       \n",
       "Warren Buffett          $118,000,000,000\n",
       "William Lei Ding         $25,200,000,000\n",
       "Yang Huiyan & family     $18,700,000,000\n",
       "Zhang Yiming             $50,000,000,000\n",
       "Zhong Shanshan           $65,700,000,000\n",
       "Name: NetWorth, Length: 101, dtype: object"
      ]
     },
     "execution_count": 21,
     "metadata": {},
     "output_type": "execute_result"
    }
   ],
   "source": [
    "networth_series.sort_index()"
   ]
  },
  {
   "cell_type": "code",
   "execution_count": 22,
   "id": "290c16c1",
   "metadata": {},
   "outputs": [
    {
     "data": {
      "text/plain": [
       "0       $21,200,000,000\n",
       "1       $31,200,000,000\n",
       "2       $65,300,000,000\n",
       "3       $59,600,000,000\n",
       "4       $17,800,000,000\n",
       "             ...       \n",
       "96     $118,000,000,000\n",
       "97      $25,200,000,000\n",
       "98      $18,700,000,000\n",
       "99      $50,000,000,000\n",
       "100     $65,700,000,000\n",
       "Name: NetWorth, Length: 101, dtype: object"
      ]
     },
     "execution_count": 22,
     "metadata": {},
     "output_type": "execute_result"
    }
   ],
   "source": [
    "networth_series.sort_index(ignore_index=True)"
   ]
  },
  {
   "cell_type": "markdown",
   "id": "eac16795",
   "metadata": {},
   "source": [
    "## value_counts"
   ]
  },
  {
   "cell_type": "code",
   "execution_count": 23,
   "id": "cd105788",
   "metadata": {},
   "outputs": [
    {
     "data": {
      "text/html": [
       "<div>\n",
       "<style scoped>\n",
       "    .dataframe tbody tr th:only-of-type {\n",
       "        vertical-align: middle;\n",
       "    }\n",
       "\n",
       "    .dataframe tbody tr th {\n",
       "        vertical-align: top;\n",
       "    }\n",
       "\n",
       "    .dataframe thead th {\n",
       "        text-align: right;\n",
       "    }\n",
       "</style>\n",
       "<table border=\"1\" class=\"dataframe\">\n",
       "  <thead>\n",
       "    <tr style=\"text-align: right;\">\n",
       "      <th></th>\n",
       "      <th>Industry</th>\n",
       "    </tr>\n",
       "    <tr>\n",
       "      <th>Name</th>\n",
       "      <th></th>\n",
       "    </tr>\n",
       "  </thead>\n",
       "  <tbody>\n",
       "    <tr>\n",
       "      <th>Elon Musk</th>\n",
       "      <td>NaN</td>\n",
       "    </tr>\n",
       "    <tr>\n",
       "      <th>Jeff Bezos</th>\n",
       "      <td>Technology</td>\n",
       "    </tr>\n",
       "    <tr>\n",
       "      <th>Bernard Arnault &amp; family</th>\n",
       "      <td>Fashion &amp; Retail</td>\n",
       "    </tr>\n",
       "    <tr>\n",
       "      <th>Bill Gates</th>\n",
       "      <td>Technology</td>\n",
       "    </tr>\n",
       "    <tr>\n",
       "      <th>Warren Buffett</th>\n",
       "      <td>Finance &amp; Investments</td>\n",
       "    </tr>\n",
       "    <tr>\n",
       "      <th>...</th>\n",
       "      <td>...</td>\n",
       "    </tr>\n",
       "    <tr>\n",
       "      <th>Vladimir Potanin</th>\n",
       "      <td>Metals &amp; Mining</td>\n",
       "    </tr>\n",
       "    <tr>\n",
       "      <th>Harold Hamm &amp; family</th>\n",
       "      <td>Energy</td>\n",
       "    </tr>\n",
       "    <tr>\n",
       "      <th>Sun Piaoyang</th>\n",
       "      <td>Healthcare</td>\n",
       "    </tr>\n",
       "    <tr>\n",
       "      <th>Luo Liguo &amp; family</th>\n",
       "      <td>Manufacturing</td>\n",
       "    </tr>\n",
       "    <tr>\n",
       "      <th>Peter Woo</th>\n",
       "      <td>Real Estate</td>\n",
       "    </tr>\n",
       "  </tbody>\n",
       "</table>\n",
       "<p>101 rows × 1 columns</p>\n",
       "</div>"
      ],
      "text/plain": [
       "                                       Industry\n",
       "Name                                           \n",
       "Elon Musk                                   NaN\n",
       "Jeff Bezos                           Technology\n",
       "Bernard Arnault & family       Fashion & Retail\n",
       "Bill Gates                           Technology\n",
       "Warren Buffett            Finance & Investments\n",
       "...                                         ...\n",
       "Vladimir Potanin                Metals & Mining\n",
       "Harold Hamm & family                     Energy\n",
       "Sun Piaoyang                         Healthcare\n",
       "Luo Liguo & family                Manufacturing\n",
       "Peter Woo                           Real Estate\n",
       "\n",
       "[101 rows x 1 columns]"
      ]
     },
     "execution_count": 23,
     "metadata": {},
     "output_type": "execute_result"
    }
   ],
   "source": [
    "industry = pd.read_csv('../../data/TopRichestInWorld.csv', usecols=['Name', 'Industry'], index_col='Name')\n",
    "industry"
   ]
  },
  {
   "cell_type": "code",
   "execution_count": 24,
   "id": "b7cdeaae",
   "metadata": {},
   "outputs": [
    {
     "data": {
      "text/plain": [
       "Name\n",
       "Elon Musk                                     NaN\n",
       "Jeff Bezos                             Technology\n",
       "Bernard Arnault & family         Fashion & Retail\n",
       "Bill Gates                             Technology\n",
       "Warren Buffett              Finance & Investments\n",
       "                                    ...          \n",
       "Vladimir Potanin                  Metals & Mining\n",
       "Harold Hamm & family                       Energy\n",
       "Sun Piaoyang                           Healthcare\n",
       "Luo Liguo & family                  Manufacturing\n",
       "Peter Woo                             Real Estate\n",
       "Name: Industry, Length: 101, dtype: object"
      ]
     },
     "execution_count": 24,
     "metadata": {},
     "output_type": "execute_result"
    }
   ],
   "source": [
    "industry_series = industry.squeeze()\n",
    "industry_series"
   ]
  },
  {
   "cell_type": "code",
   "execution_count": 25,
   "id": "b7da6e40",
   "metadata": {},
   "outputs": [
    {
     "name": "stdout",
     "output_type": "stream",
     "text": [
      "Industry\n",
      "Fashion & Retail         0.18\n",
      "Technology               0.15\n",
      "Finance & Investments    0.13\n",
      "Metals & Mining          0.09\n",
      "Food & Beverage          0.08\n",
      "Diversified              0.06\n",
      "Automotive               0.06\n",
      "Manufacturing            0.05\n",
      "Healthcare               0.05\n",
      "Media & Entertainment    0.04\n",
      "Real Estate              0.03\n",
      "Telecom                  0.02\n",
      "Logistics                0.02\n",
      "Energy                   0.02\n",
      "Gambling & Casinos       0.01\n",
      "Service                  0.01\n",
      "Name: proportion, dtype: float64\n",
      "\n",
      "total: 1.0000000000000002\n"
     ]
    }
   ],
   "source": [
    "print(industry_series.value_counts(normalize=True))\n",
    "total = 0\n",
    "for i in industry_series.value_counts(normalize=True):\n",
    "    total +=i\n",
    "print('\\ntotal:',total)"
   ]
  },
  {
   "cell_type": "code",
   "execution_count": 26,
   "id": "13480f8e",
   "metadata": {},
   "outputs": [
    {
     "data": {
      "text/plain": [
       "Industry\n",
       "Technology               15\n",
       "Fashion & Retail         18\n",
       "Finance & Investments    13\n",
       "Diversified               6\n",
       "Media & Entertainment     4\n",
       "Telecom                   2\n",
       "Food & Beverage           8\n",
       "Automotive                6\n",
       "Logistics                 2\n",
       "Real Estate               3\n",
       "Metals & Mining           9\n",
       "Manufacturing             5\n",
       "Gambling & Casinos        1\n",
       "Healthcare                5\n",
       "Service                   1\n",
       "Energy                    2\n",
       "Name: count, dtype: int64"
      ]
     },
     "execution_count": 26,
     "metadata": {},
     "output_type": "execute_result"
    }
   ],
   "source": [
    "industry_series.value_counts(sort=False,)"
   ]
  },
  {
   "cell_type": "code",
   "execution_count": 27,
   "id": "804ea80f",
   "metadata": {},
   "outputs": [
    {
     "data": {
      "text/plain": [
       "100"
      ]
     },
     "execution_count": 27,
     "metadata": {},
     "output_type": "execute_result"
    }
   ],
   "source": [
    "industry_series.count() # no of non-null values intentinally kept first row as empty"
   ]
  },
  {
   "cell_type": "markdown",
   "id": "f85d48e6",
   "metadata": {},
   "source": [
    "## accessing and slicing via position"
   ]
  },
  {
   "cell_type": "code",
   "execution_count": 28,
   "id": "20ef3201",
   "metadata": {},
   "outputs": [
    {
     "data": {
      "text/plain": [
       "Name\n",
       "Elon Musk                   $219,000,000,000\n",
       "Jeff Bezos                  $171,000,000,000\n",
       "Bernard Arnault & family    $158,000,000,000\n",
       "Bill Gates                  $129,000,000,000\n",
       "Warren Buffett              $118,000,000,000\n",
       "                                  ...       \n",
       "Vladimir Potanin             $17,300,000,000\n",
       "Harold Hamm & family         $17,200,000,000\n",
       "Sun Piaoyang                 $17,100,000,000\n",
       "Luo Liguo & family           $17,000,000,000\n",
       "Peter Woo                    $17,000,000,000\n",
       "Name: NetWorth, Length: 101, dtype: object"
      ]
     },
     "execution_count": 28,
     "metadata": {},
     "output_type": "execute_result"
    }
   ],
   "source": [
    "networth_series"
   ]
  },
  {
   "cell_type": "code",
   "execution_count": 29,
   "id": "54b58a81",
   "metadata": {},
   "outputs": [
    {
     "data": {
      "text/plain": [
       "(Name\n",
       " Elon Musk                   $219,000,000,000\n",
       " Jeff Bezos                  $171,000,000,000\n",
       " Bernard Arnault & family    $158,000,000,000\n",
       " Bill Gates                  $129,000,000,000\n",
       " Warren Buffett              $118,000,000,000\n",
       " Name: NetWorth, dtype: object,)"
      ]
     },
     "execution_count": 29,
     "metadata": {},
     "output_type": "execute_result"
    }
   ],
   "source": [
    "networth_series.head(5), "
   ]
  },
  {
   "cell_type": "code",
   "execution_count": 30,
   "id": "0186849a",
   "metadata": {},
   "outputs": [
    {
     "name": "stderr",
     "output_type": "stream",
     "text": [
      "C:\\Users\\bvkir\\AppData\\Local\\Temp\\ipykernel_24956\\2698832707.py:1: FutureWarning: Series.__getitem__ treating keys as positions is deprecated. In a future version, integer keys will always be treated as labels (consistent with DataFrame behavior). To access a value by position, use `ser.iloc[pos]`\n",
      "  networth_series[5]\n"
     ]
    },
    {
     "data": {
      "text/plain": [
       "'$111,000,000,000'"
      ]
     },
     "execution_count": 30,
     "metadata": {},
     "output_type": "execute_result"
    }
   ],
   "source": [
    "networth_series[5]"
   ]
  },
  {
   "cell_type": "code",
   "execution_count": 31,
   "id": "1e38cfb7",
   "metadata": {},
   "outputs": [
    {
     "name": "stderr",
     "output_type": "stream",
     "text": [
      "C:\\Users\\bvkir\\AppData\\Local\\Temp\\ipykernel_24956\\353498352.py:1: FutureWarning: Series.__getitem__ treating keys as positions is deprecated. In a future version, integer keys will always be treated as labels (consistent with DataFrame behavior). To access a value by position, use `ser.iloc[pos]`\n",
      "  networth_series.iloc[5], networth_series[[1,2,3]]\n"
     ]
    },
    {
     "data": {
      "text/plain": [
       "('$111,000,000,000',\n",
       " Name\n",
       " Jeff Bezos                  $171,000,000,000\n",
       " Bernard Arnault & family    $158,000,000,000\n",
       " Bill Gates                  $129,000,000,000\n",
       " Name: NetWorth, dtype: object)"
      ]
     },
     "execution_count": 31,
     "metadata": {},
     "output_type": "execute_result"
    }
   ],
   "source": [
    "networth_series.iloc[5], networth_series[[1,2,3]]"
   ]
  },
  {
   "cell_type": "code",
   "execution_count": 32,
   "id": "279e63a9",
   "metadata": {},
   "outputs": [
    {
     "data": {
      "text/plain": [
       "(Name\n",
       " Jeff Bezos                  $171,000,000,000\n",
       " Bernard Arnault & family    $158,000,000,000\n",
       " Bill Gates                  $129,000,000,000\n",
       " Warren Buffett              $118,000,000,000\n",
       " Name: NetWorth, dtype: object,\n",
       " Name\n",
       " Jeff Bezos                  $171,000,000,000\n",
       " Bernard Arnault & family    $158,000,000,000\n",
       " Bill Gates                  $129,000,000,000\n",
       " Warren Buffett              $118,000,000,000\n",
       " Name: NetWorth, dtype: object)"
      ]
     },
     "execution_count": 32,
     "metadata": {},
     "output_type": "execute_result"
    }
   ],
   "source": [
    "networth_series[1:5], networth_series.iloc[1:5] # exclusion of 5"
   ]
  },
  {
   "cell_type": "code",
   "execution_count": 33,
   "id": "6c8558eb",
   "metadata": {},
   "outputs": [
    {
     "data": {
      "text/plain": [
       "(Name\n",
       " Bernard Arnault & family    $158,000,000,000\n",
       " Larry Page                  $111,000,000,000\n",
       " Steve Ballmer                $91,400,000,000\n",
       " Name: NetWorth, dtype: object,\n",
       " Name\n",
       " Bernard Arnault & family    $158,000,000,000\n",
       " Larry Page                  $111,000,000,000\n",
       " Steve Ballmer                $91,400,000,000\n",
       " Name: NetWorth, dtype: object)"
      ]
     },
     "execution_count": 33,
     "metadata": {},
     "output_type": "execute_result"
    }
   ],
   "source": [
    "networth_series[2:10:3], networth_series.iloc[2:10:3]"
   ]
  },
  {
   "cell_type": "code",
   "execution_count": 34,
   "id": "d004a6c2",
   "metadata": {},
   "outputs": [
    {
     "name": "stdout",
     "output_type": "stream",
     "text": [
      "$17,000,000,000\n",
      "Name\n",
      "Peter Woo    $17,000,000,000\n",
      "Name: NetWorth, dtype: object\n"
     ]
    }
   ],
   "source": [
    "print(networth_series.iloc[-1])\n",
    "print(networth_series.iloc[-1:]) # won't raise exception if it is empty"
   ]
  },
  {
   "cell_type": "markdown",
   "id": "7d7269d8",
   "metadata": {},
   "source": [
    "## accessing and slicing via index"
   ]
  },
  {
   "cell_type": "code",
   "execution_count": 35,
   "id": "49733b0b",
   "metadata": {},
   "outputs": [
    {
     "name": "stdout",
     "output_type": "stream",
     "text": [
      "$171,000,000,000\n",
      "$171,000,000,000\n"
     ]
    }
   ],
   "source": [
    "print(networth_series[\"Jeff Bezos\"])\n",
    "print(networth_series.loc[\"Jeff Bezos\"])"
   ]
  },
  {
   "cell_type": "code",
   "execution_count": 36,
   "id": "35695e4b",
   "metadata": {},
   "outputs": [
    {
     "name": "stdout",
     "output_type": "stream",
     "text": [
      "Name\n",
      "Jeff Bezos                  $171,000,000,000\n",
      "Bernard Arnault & family    $158,000,000,000\n",
      "Bill Gates                  $129,000,000,000\n",
      "Warren Buffett              $118,000,000,000\n",
      "Larry Page                  $111,000,000,000\n",
      "Sergey Brin                 $107,000,000,000\n",
      "Larry Ellison               $106,000,000,000\n",
      "Steve Ballmer                $91,400,000,000\n",
      "Mukesh Ambani                $90,700,000,000\n",
      "Name: NetWorth, dtype: object\n",
      "Name\n",
      "Jeff Bezos                  $171,000,000,000\n",
      "Bernard Arnault & family    $158,000,000,000\n",
      "Bill Gates                  $129,000,000,000\n",
      "Warren Buffett              $118,000,000,000\n",
      "Larry Page                  $111,000,000,000\n",
      "Sergey Brin                 $107,000,000,000\n",
      "Larry Ellison               $106,000,000,000\n",
      "Steve Ballmer                $91,400,000,000\n",
      "Mukesh Ambani                $90,700,000,000\n",
      "Name: NetWorth, dtype: object\n"
     ]
    }
   ],
   "source": [
    "print(networth_series[\"Jeff Bezos\": \"Mukesh Ambani\"])\n",
    "print(networth_series.loc[\"Jeff Bezos\": \"Mukesh Ambani\"]) # inclusive of Mukesh Ambani"
   ]
  },
  {
   "cell_type": "code",
   "execution_count": 37,
   "id": "6d3ff532",
   "metadata": {},
   "outputs": [
    {
     "data": {
      "text/plain": [
       "Index(['Elon Musk', 'Jeff Bezos', 'Bernard Arnault & family', 'Bill Gates',\n",
       "       'Warren Buffett', 'Larry Page', 'Sergey Brin', 'Larry Ellison',\n",
       "       'Steve Ballmer', 'Mukesh Ambani',\n",
       "       ...\n",
       "       'Savitri Jindal & family', 'Wang Wenyin', 'Li Xiting', 'Stefan Persson',\n",
       "       'Steve Cohen', 'Vladimir Potanin', 'Harold Hamm & family',\n",
       "       'Sun Piaoyang', 'Luo Liguo & family', 'Peter Woo'],\n",
       "      dtype='object', name='Name', length=101)"
      ]
     },
     "execution_count": 37,
     "metadata": {},
     "output_type": "execute_result"
    }
   ],
   "source": [
    "networth_series.index"
   ]
  },
  {
   "cell_type": "code",
   "execution_count": 38,
   "id": "1b476c4d",
   "metadata": {},
   "outputs": [
    {
     "data": {
      "text/plain": [
       "Index(['Elon Musk', 'Jeff Bezos', 'Bernard Arnault & family', 'Bill Gates',\n",
       "       'Warren Buffett', 'Larry Page', 'Sergey Brin', 'Larry Ellison',\n",
       "       'Steve Ballmer', 'Mukesh Ambani',\n",
       "       ...\n",
       "       'Savitri Jindal & family', 'Wang Wenyin', 'Li Xiting', 'Stefan Persson',\n",
       "       'Steve Cohen', 'Vladimir Potanin', 'Harold Hamm & family',\n",
       "       'Sun Piaoyang', 'Luo Liguo & family', 'Peter Woo'],\n",
       "      dtype='object', name='Name', length=101)"
      ]
     },
     "execution_count": 38,
     "metadata": {},
     "output_type": "execute_result"
    }
   ],
   "source": [
    "industry_series.index"
   ]
  },
  {
   "cell_type": "code",
   "execution_count": 39,
   "id": "4bf40916",
   "metadata": {},
   "outputs": [],
   "source": [
    "industry_series_with_industry_col = pd.read_csv('../../data/TopRichestInWorld.csv', usecols=['Name', 'Industry'], index_col='Industry').squeeze()"
   ]
  },
  {
   "cell_type": "code",
   "execution_count": 40,
   "id": "80fd99db",
   "metadata": {},
   "outputs": [
    {
     "data": {
      "text/plain": [
       "Industry\n",
       "NaN                                     Elon Musk\n",
       "Technology                             Jeff Bezos\n",
       "Fashion & Retail         Bernard Arnault & family\n",
       "Technology                             Bill Gates\n",
       "Finance & Investments              Warren Buffett\n",
       "                                   ...           \n",
       "Metals & Mining                  Vladimir Potanin\n",
       "Energy                       Harold Hamm & family\n",
       "Healthcare                           Sun Piaoyang\n",
       "Manufacturing                  Luo Liguo & family\n",
       "Real Estate                             Peter Woo\n",
       "Name: Name, Length: 101, dtype: object"
      ]
     },
     "execution_count": 40,
     "metadata": {},
     "output_type": "execute_result"
    }
   ],
   "source": [
    "industry_series_with_industry_col"
   ]
  },
  {
   "cell_type": "code",
   "execution_count": 41,
   "id": "c3a84f35",
   "metadata": {},
   "outputs": [
    {
     "data": {
      "text/plain": [
       "Industry\n",
       "Technology          Jeff Bezos\n",
       "Technology          Bill Gates\n",
       "Technology          Larry Page\n",
       "Technology         Sergey Brin\n",
       "Technology       Larry Ellison\n",
       "Technology       Steve Ballmer\n",
       "Technology     Mark Zuckerberg\n",
       "Technology        Michael Dell\n",
       "Technology     MacKenzie Scott\n",
       "Technology          Ma Huateng\n",
       "Technology          Shiv Nadar\n",
       "Technology    William Lei Ding\n",
       "Technology             Jack Ma\n",
       "Technology        Eric Schmidt\n",
       "Technology        Jensen Huang\n",
       "Name: Name, dtype: object"
      ]
     },
     "execution_count": 41,
     "metadata": {},
     "output_type": "execute_result"
    }
   ],
   "source": [
    "industry_series_with_industry_col.loc['Technology']"
   ]
  },
  {
   "cell_type": "code",
   "execution_count": 42,
   "id": "9d348c94",
   "metadata": {},
   "outputs": [
    {
     "ename": "KeyError",
     "evalue": "\"Cannot get left slice bound for non-unique label: 'Technology'\"",
     "output_type": "error",
     "traceback": [
      "\u001b[1;31m---------------------------------------------------------------------------\u001b[0m",
      "\u001b[1;31mKeyError\u001b[0m                                  Traceback (most recent call last)",
      "Cell \u001b[1;32mIn[42], line 1\u001b[0m\n\u001b[1;32m----> 1\u001b[0m \u001b[43mindustry_series_with_industry_col\u001b[49m\u001b[38;5;241;43m.\u001b[39;49m\u001b[43mloc\u001b[49m\u001b[43m[\u001b[49m\u001b[38;5;124;43m'\u001b[39;49m\u001b[38;5;124;43mTechnology\u001b[39;49m\u001b[38;5;124;43m'\u001b[39;49m\u001b[43m:\u001b[49m\u001b[43m \u001b[49m\u001b[38;5;124;43m'\u001b[39;49m\u001b[38;5;124;43mMedia & Entertainment\u001b[39;49m\u001b[38;5;124;43m'\u001b[39;49m\u001b[43m]\u001b[49m\n",
      "File \u001b[1;32m~\\AppData\\Roaming\\Python\\Python312\\site-packages\\pandas\\core\\indexing.py:1191\u001b[0m, in \u001b[0;36m_LocationIndexer.__getitem__\u001b[1;34m(self, key)\u001b[0m\n\u001b[0;32m   1189\u001b[0m maybe_callable \u001b[38;5;241m=\u001b[39m com\u001b[38;5;241m.\u001b[39mapply_if_callable(key, \u001b[38;5;28mself\u001b[39m\u001b[38;5;241m.\u001b[39mobj)\n\u001b[0;32m   1190\u001b[0m maybe_callable \u001b[38;5;241m=\u001b[39m \u001b[38;5;28mself\u001b[39m\u001b[38;5;241m.\u001b[39m_check_deprecated_callable_usage(key, maybe_callable)\n\u001b[1;32m-> 1191\u001b[0m \u001b[38;5;28;01mreturn\u001b[39;00m \u001b[38;5;28;43mself\u001b[39;49m\u001b[38;5;241;43m.\u001b[39;49m\u001b[43m_getitem_axis\u001b[49m\u001b[43m(\u001b[49m\u001b[43mmaybe_callable\u001b[49m\u001b[43m,\u001b[49m\u001b[43m \u001b[49m\u001b[43maxis\u001b[49m\u001b[38;5;241;43m=\u001b[39;49m\u001b[43maxis\u001b[49m\u001b[43m)\u001b[49m\n",
      "File \u001b[1;32m~\\AppData\\Roaming\\Python\\Python312\\site-packages\\pandas\\core\\indexing.py:1411\u001b[0m, in \u001b[0;36m_LocIndexer._getitem_axis\u001b[1;34m(self, key, axis)\u001b[0m\n\u001b[0;32m   1409\u001b[0m \u001b[38;5;28;01mif\u001b[39;00m \u001b[38;5;28misinstance\u001b[39m(key, \u001b[38;5;28mslice\u001b[39m):\n\u001b[0;32m   1410\u001b[0m     \u001b[38;5;28mself\u001b[39m\u001b[38;5;241m.\u001b[39m_validate_key(key, axis)\n\u001b[1;32m-> 1411\u001b[0m     \u001b[38;5;28;01mreturn\u001b[39;00m \u001b[38;5;28;43mself\u001b[39;49m\u001b[38;5;241;43m.\u001b[39;49m\u001b[43m_get_slice_axis\u001b[49m\u001b[43m(\u001b[49m\u001b[43mkey\u001b[49m\u001b[43m,\u001b[49m\u001b[43m \u001b[49m\u001b[43maxis\u001b[49m\u001b[38;5;241;43m=\u001b[39;49m\u001b[43maxis\u001b[49m\u001b[43m)\u001b[49m\n\u001b[0;32m   1412\u001b[0m \u001b[38;5;28;01melif\u001b[39;00m com\u001b[38;5;241m.\u001b[39mis_bool_indexer(key):\n\u001b[0;32m   1413\u001b[0m     \u001b[38;5;28;01mreturn\u001b[39;00m \u001b[38;5;28mself\u001b[39m\u001b[38;5;241m.\u001b[39m_getbool_axis(key, axis\u001b[38;5;241m=\u001b[39maxis)\n",
      "File \u001b[1;32m~\\AppData\\Roaming\\Python\\Python312\\site-packages\\pandas\\core\\indexing.py:1443\u001b[0m, in \u001b[0;36m_LocIndexer._get_slice_axis\u001b[1;34m(self, slice_obj, axis)\u001b[0m\n\u001b[0;32m   1440\u001b[0m     \u001b[38;5;28;01mreturn\u001b[39;00m obj\u001b[38;5;241m.\u001b[39mcopy(deep\u001b[38;5;241m=\u001b[39m\u001b[38;5;28;01mFalse\u001b[39;00m)\n\u001b[0;32m   1442\u001b[0m labels \u001b[38;5;241m=\u001b[39m obj\u001b[38;5;241m.\u001b[39m_get_axis(axis)\n\u001b[1;32m-> 1443\u001b[0m indexer \u001b[38;5;241m=\u001b[39m \u001b[43mlabels\u001b[49m\u001b[38;5;241;43m.\u001b[39;49m\u001b[43mslice_indexer\u001b[49m\u001b[43m(\u001b[49m\u001b[43mslice_obj\u001b[49m\u001b[38;5;241;43m.\u001b[39;49m\u001b[43mstart\u001b[49m\u001b[43m,\u001b[49m\u001b[43m \u001b[49m\u001b[43mslice_obj\u001b[49m\u001b[38;5;241;43m.\u001b[39;49m\u001b[43mstop\u001b[49m\u001b[43m,\u001b[49m\u001b[43m \u001b[49m\u001b[43mslice_obj\u001b[49m\u001b[38;5;241;43m.\u001b[39;49m\u001b[43mstep\u001b[49m\u001b[43m)\u001b[49m\n\u001b[0;32m   1445\u001b[0m \u001b[38;5;28;01mif\u001b[39;00m \u001b[38;5;28misinstance\u001b[39m(indexer, \u001b[38;5;28mslice\u001b[39m):\n\u001b[0;32m   1446\u001b[0m     \u001b[38;5;28;01mreturn\u001b[39;00m \u001b[38;5;28mself\u001b[39m\u001b[38;5;241m.\u001b[39mobj\u001b[38;5;241m.\u001b[39m_slice(indexer, axis\u001b[38;5;241m=\u001b[39maxis)\n",
      "File \u001b[1;32m~\\AppData\\Roaming\\Python\\Python312\\site-packages\\pandas\\core\\indexes\\base.py:6662\u001b[0m, in \u001b[0;36mIndex.slice_indexer\u001b[1;34m(self, start, end, step)\u001b[0m\n\u001b[0;32m   6618\u001b[0m \u001b[38;5;28;01mdef\u001b[39;00m \u001b[38;5;21mslice_indexer\u001b[39m(\n\u001b[0;32m   6619\u001b[0m     \u001b[38;5;28mself\u001b[39m,\n\u001b[0;32m   6620\u001b[0m     start: Hashable \u001b[38;5;241m|\u001b[39m \u001b[38;5;28;01mNone\u001b[39;00m \u001b[38;5;241m=\u001b[39m \u001b[38;5;28;01mNone\u001b[39;00m,\n\u001b[0;32m   6621\u001b[0m     end: Hashable \u001b[38;5;241m|\u001b[39m \u001b[38;5;28;01mNone\u001b[39;00m \u001b[38;5;241m=\u001b[39m \u001b[38;5;28;01mNone\u001b[39;00m,\n\u001b[0;32m   6622\u001b[0m     step: \u001b[38;5;28mint\u001b[39m \u001b[38;5;241m|\u001b[39m \u001b[38;5;28;01mNone\u001b[39;00m \u001b[38;5;241m=\u001b[39m \u001b[38;5;28;01mNone\u001b[39;00m,\n\u001b[0;32m   6623\u001b[0m ) \u001b[38;5;241m-\u001b[39m\u001b[38;5;241m>\u001b[39m \u001b[38;5;28mslice\u001b[39m:\n\u001b[0;32m   6624\u001b[0m \u001b[38;5;250m    \u001b[39m\u001b[38;5;124;03m\"\"\"\u001b[39;00m\n\u001b[0;32m   6625\u001b[0m \u001b[38;5;124;03m    Compute the slice indexer for input labels and step.\u001b[39;00m\n\u001b[0;32m   6626\u001b[0m \n\u001b[1;32m   (...)\u001b[0m\n\u001b[0;32m   6660\u001b[0m \u001b[38;5;124;03m    slice(1, 3, None)\u001b[39;00m\n\u001b[0;32m   6661\u001b[0m \u001b[38;5;124;03m    \"\"\"\u001b[39;00m\n\u001b[1;32m-> 6662\u001b[0m     start_slice, end_slice \u001b[38;5;241m=\u001b[39m \u001b[38;5;28;43mself\u001b[39;49m\u001b[38;5;241;43m.\u001b[39;49m\u001b[43mslice_locs\u001b[49m\u001b[43m(\u001b[49m\u001b[43mstart\u001b[49m\u001b[43m,\u001b[49m\u001b[43m \u001b[49m\u001b[43mend\u001b[49m\u001b[43m,\u001b[49m\u001b[43m \u001b[49m\u001b[43mstep\u001b[49m\u001b[38;5;241;43m=\u001b[39;49m\u001b[43mstep\u001b[49m\u001b[43m)\u001b[49m\n\u001b[0;32m   6664\u001b[0m     \u001b[38;5;66;03m# return a slice\u001b[39;00m\n\u001b[0;32m   6665\u001b[0m     \u001b[38;5;28;01mif\u001b[39;00m \u001b[38;5;129;01mnot\u001b[39;00m is_scalar(start_slice):\n",
      "File \u001b[1;32m~\\AppData\\Roaming\\Python\\Python312\\site-packages\\pandas\\core\\indexes\\base.py:6879\u001b[0m, in \u001b[0;36mIndex.slice_locs\u001b[1;34m(self, start, end, step)\u001b[0m\n\u001b[0;32m   6877\u001b[0m start_slice \u001b[38;5;241m=\u001b[39m \u001b[38;5;28;01mNone\u001b[39;00m\n\u001b[0;32m   6878\u001b[0m \u001b[38;5;28;01mif\u001b[39;00m start \u001b[38;5;129;01mis\u001b[39;00m \u001b[38;5;129;01mnot\u001b[39;00m \u001b[38;5;28;01mNone\u001b[39;00m:\n\u001b[1;32m-> 6879\u001b[0m     start_slice \u001b[38;5;241m=\u001b[39m \u001b[38;5;28;43mself\u001b[39;49m\u001b[38;5;241;43m.\u001b[39;49m\u001b[43mget_slice_bound\u001b[49m\u001b[43m(\u001b[49m\u001b[43mstart\u001b[49m\u001b[43m,\u001b[49m\u001b[43m \u001b[49m\u001b[38;5;124;43m\"\u001b[39;49m\u001b[38;5;124;43mleft\u001b[39;49m\u001b[38;5;124;43m\"\u001b[39;49m\u001b[43m)\u001b[49m\n\u001b[0;32m   6880\u001b[0m \u001b[38;5;28;01mif\u001b[39;00m start_slice \u001b[38;5;129;01mis\u001b[39;00m \u001b[38;5;28;01mNone\u001b[39;00m:\n\u001b[0;32m   6881\u001b[0m     start_slice \u001b[38;5;241m=\u001b[39m \u001b[38;5;241m0\u001b[39m\n",
      "File \u001b[1;32m~\\AppData\\Roaming\\Python\\Python312\\site-packages\\pandas\\core\\indexes\\base.py:6812\u001b[0m, in \u001b[0;36mIndex.get_slice_bound\u001b[1;34m(self, label, side)\u001b[0m\n\u001b[0;32m   6810\u001b[0m     slc \u001b[38;5;241m=\u001b[39m lib\u001b[38;5;241m.\u001b[39mmaybe_booleans_to_slice(slc\u001b[38;5;241m.\u001b[39mview(\u001b[38;5;124m\"\u001b[39m\u001b[38;5;124mu1\u001b[39m\u001b[38;5;124m\"\u001b[39m))\n\u001b[0;32m   6811\u001b[0m     \u001b[38;5;28;01mif\u001b[39;00m \u001b[38;5;28misinstance\u001b[39m(slc, np\u001b[38;5;241m.\u001b[39mndarray):\n\u001b[1;32m-> 6812\u001b[0m         \u001b[38;5;28;01mraise\u001b[39;00m \u001b[38;5;167;01mKeyError\u001b[39;00m(\n\u001b[0;32m   6813\u001b[0m             \u001b[38;5;124mf\u001b[39m\u001b[38;5;124m\"\u001b[39m\u001b[38;5;124mCannot get \u001b[39m\u001b[38;5;132;01m{\u001b[39;00mside\u001b[38;5;132;01m}\u001b[39;00m\u001b[38;5;124m slice bound for non-unique \u001b[39m\u001b[38;5;124m\"\u001b[39m\n\u001b[0;32m   6814\u001b[0m             \u001b[38;5;124mf\u001b[39m\u001b[38;5;124m\"\u001b[39m\u001b[38;5;124mlabel: \u001b[39m\u001b[38;5;132;01m{\u001b[39;00m\u001b[38;5;28mrepr\u001b[39m(original_label)\u001b[38;5;132;01m}\u001b[39;00m\u001b[38;5;124m\"\u001b[39m\n\u001b[0;32m   6815\u001b[0m         )\n\u001b[0;32m   6817\u001b[0m \u001b[38;5;28;01mif\u001b[39;00m \u001b[38;5;28misinstance\u001b[39m(slc, \u001b[38;5;28mslice\u001b[39m):\n\u001b[0;32m   6818\u001b[0m     \u001b[38;5;28;01mif\u001b[39;00m side \u001b[38;5;241m==\u001b[39m \u001b[38;5;124m\"\u001b[39m\u001b[38;5;124mleft\u001b[39m\u001b[38;5;124m\"\u001b[39m:\n",
      "\u001b[1;31mKeyError\u001b[0m: \"Cannot get left slice bound for non-unique label: 'Technology'\""
     ]
    }
   ],
   "source": [
    "industry_series_with_industry_col.loc['Technology': 'Media & Entertainment']"
   ]
  },
  {
   "cell_type": "code",
   "execution_count": null,
   "id": "275dc4d3",
   "metadata": {},
   "outputs": [],
   "source": []
  }
 ],
 "metadata": {
  "kernelspec": {
   "display_name": "Python 3",
   "language": "python",
   "name": "python3"
  },
  "language_info": {
   "codemirror_mode": {
    "name": "ipython",
    "version": 3
   },
   "file_extension": ".py",
   "mimetype": "text/x-python",
   "name": "python",
   "nbconvert_exporter": "python",
   "pygments_lexer": "ipython3",
   "version": "3.12.3"
  }
 },
 "nbformat": 4,
 "nbformat_minor": 5
}
